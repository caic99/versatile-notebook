{
 "cells": [
  {
   "cell_type": "code",
   "execution_count": 1,
   "metadata": {},
   "outputs": [
    {
     "name": "stdout",
     "output_type": "stream",
     "text": [
      "Use `%%cpp` to write and run C++ code in cells.\n",
      "Use `%%mpi -n 4 cpp` to write and run MPI C++ code in cells.\n",
      "Use `%%cu` to write and run CUDA C++ code in cells.\n"
     ]
    }
   ],
   "source": [
    "%run versatile-notebook.py\n"
   ]
  },
  {
   "cell_type": "code",
   "execution_count": 2,
   "metadata": {},
   "outputs": [
    {
     "name": "stderr",
     "output_type": "stream",
     "text": [
      "2024-10-16 16:25:07,643 - INFO - Compiling: g++ /tmp/tmpt6pz5qd6.cpp -fopenmp\n",
      "2024-10-16 16:25:07,999 - INFO - Running: ./a.out\n"
     ]
    },
    {
     "name": "stdout",
     "output_type": "stream",
     "text": [
      "Hello, C++ from Jupyter!\n",
      " 0 2 5 4 8 1 7 6 9 3"
     ]
    }
   ],
   "source": [
    "%%cpp -fopenmp\n",
    "#include <iostream>\n",
    "#include <unistd.h>\n",
    "int main() {\n",
    "    std::cout << \"Hello, C++ from Jupyter!\" << std::endl;\n",
    "    #pragma omp parallel for\n",
    "    for (int i = 0; i < 10; ++i)\n",
    "    {\n",
    "        #pragma omp critical\n",
    "        std::cout << \" \" << i;\n",
    "    }\n",
    "    return 0;\n",
    "}"
   ]
  },
  {
   "cell_type": "code",
   "execution_count": 3,
   "metadata": {},
   "outputs": [
    {
     "name": "stderr",
     "output_type": "stream",
     "text": [
      "2024-10-16 16:25:08,249 - INFO - Compiling: mpic++ /tmp/tmps1i4635r.cpp \n",
      "2024-10-16 16:25:08,872 - INFO - Running: mpirun -n 4 ./a.out\n"
     ]
    },
    {
     "name": "stdout",
     "output_type": "stream",
     "text": [
      "Hello from process 2\n",
      "Hello from process 1\n",
      "Hello from process 0\n",
      "Hello from process 3\n"
     ]
    }
   ],
   "source": [
    "%%mpi -n 4 cpp\n",
    "#include <mpi.h>\n",
    "#include <iostream>\n",
    "int main(int argc, char** argv) {\n",
    "    MPI_Init(&argc, &argv);\n",
    "    int rank;\n",
    "    MPI_Comm_rank(MPI_COMM_WORLD, &rank);\n",
    "    std::cout << \"Hello from process \" << rank << std::endl;\n",
    "    MPI_Finalize();\n",
    "    return 0;\n",
    "}\n"
   ]
  },
  {
   "cell_type": "code",
   "execution_count": 4,
   "metadata": {},
   "outputs": [
    {
     "name": "stderr",
     "output_type": "stream",
     "text": [
      "2024-10-16 16:25:09,492 - INFO - Compiling: /usr/local/cuda/bin/nvcc /tmp/tmps0bl9v8y.cu \n",
      "2024-10-16 16:25:11,468 - INFO - Running: ./a.out\n"
     ]
    },
    {
     "name": "stdout",
     "output_type": "stream",
     "text": [
      "Hello from CUDA kernel!\n"
     ]
    }
   ],
   "source": [
    "%%cu\n",
    "#include <iostream>\n",
    "#include <cuda_runtime.h>\n",
    "__global__ void kernel() {\n",
    "    printf(\"Hello from CUDA kernel!\\n\");\n",
    "}\n",
    "int main() {\n",
    "    int device = 0;\n",
    "    cudaGetDevice(&device);\n",
    "\n",
    "    kernel<<<1, 1>>>();\n",
    "    cudaDeviceSynchronize();\n",
    "    return 0;\n",
    "}"
   ]
  }
 ],
 "metadata": {
  "kernelspec": {
   "display_name": "tb",
   "language": "python",
   "name": "python3"
  },
  "language_info": {
   "codemirror_mode": {
    "name": "ipython",
    "version": 3
   },
   "file_extension": ".py",
   "mimetype": "text/x-python",
   "name": "python",
   "nbconvert_exporter": "python",
   "pygments_lexer": "ipython3",
   "version": "3.10.14"
  }
 },
 "nbformat": 4,
 "nbformat_minor": 2
}
