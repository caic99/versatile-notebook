{
 "cells": [
  {
   "cell_type": "code",
   "execution_count": 1,
   "metadata": {},
   "outputs": [
    {
     "name": "stdout",
     "output_type": "stream",
     "text": [
      "Collecting git+https://github.com/caic99/versatile_notebook\n",
      "  Cloning https://github.com/caic99/versatile_notebook to /tmp/pip-req-build-kvncrn1p\n",
      "  Running command git clone --filter=blob:none --quiet https://github.com/caic99/versatile_notebook /tmp/pip-req-build-kvncrn1p\n",
      "  Resolved https://github.com/caic99/versatile_notebook to commit a4e0f94af5a58e29df7a4506095325b3b5a85bfc\n",
      "  Installing build dependencies ... \u001b[?25ldone\n",
      "\u001b[?25h  Getting requirements to build wheel ... \u001b[?25ldone\n",
      "\u001b[?25h  Preparing metadata (pyproject.toml) ... \u001b[?25ldone\n",
      "\u001b[?25h\u001b[33mWARNING: Running pip as the 'root' user can result in broken permissions and conflicting behaviour with the system package manager. It is recommended to use a virtual environment instead: https://pip.pypa.io/warnings/venv\u001b[0m\u001b[33m\n",
      "\u001b[0mNote: you may need to restart the kernel to use updated packages.\n"
     ]
    }
   ],
   "source": [
    "pip install git+https://github.com/caic99/versatile_notebook"
   ]
  },
  {
   "cell_type": "code",
   "execution_count": 2,
   "metadata": {},
   "outputs": [],
   "source": [
    "%load_ext versatile_notebook"
   ]
  },
  {
   "cell_type": "code",
   "execution_count": 3,
   "metadata": {},
   "outputs": [
    {
     "name": "stderr",
     "output_type": "stream",
     "text": [
      "2024-10-16 17:07:04,186 - INFO - Compiling: g++ /tmp/tmpsc6ud2ge.cpp -fopenmp\n",
      "2024-10-16 17:07:04,552 - INFO - Running: ./a.out\n"
     ]
    },
    {
     "name": "stdout",
     "output_type": "stream",
     "text": [
      "Hello, C++ from Jupyter!\n",
      " 0 6 5 1 7 3 2 8 9 4"
     ]
    }
   ],
   "source": [
    "%%cpp -fopenmp\n",
    "#include <iostream>\n",
    "#include <unistd.h>\n",
    "int main() {\n",
    "    std::cout << \"Hello, C++ from Jupyter!\" << std::endl;\n",
    "    #pragma omp parallel for\n",
    "    for (int i = 0; i < 10; ++i)\n",
    "    {\n",
    "        #pragma omp critical\n",
    "        std::cout << \" \" << i;\n",
    "    }\n",
    "    return 0;\n",
    "}"
   ]
  },
  {
   "cell_type": "code",
   "execution_count": 4,
   "metadata": {},
   "outputs": [
    {
     "name": "stderr",
     "output_type": "stream",
     "text": [
      "2024-10-16 17:07:04,802 - INFO - Compiling: mpic++ /tmp/tmpjbbga8tl.cpp \n",
      "2024-10-16 17:07:05,428 - INFO - Running: mpirun -n 4 ./a.out\n"
     ]
    },
    {
     "name": "stdout",
     "output_type": "stream",
     "text": [
      "Hello from process 1\n",
      "Hello from process 3\n",
      "Hello from process 2\n",
      "Hello from process 0\n"
     ]
    }
   ],
   "source": [
    "%%mpi -n 4 cpp\n",
    "#include <mpi.h>\n",
    "#include <iostream>\n",
    "int main(int argc, char** argv) {\n",
    "    MPI_Init(&argc, &argv);\n",
    "    int rank;\n",
    "    MPI_Comm_rank(MPI_COMM_WORLD, &rank);\n",
    "    std::cout << \"Hello from process \" << rank << std::endl;\n",
    "    MPI_Finalize();\n",
    "    return 0;\n",
    "}\n"
   ]
  },
  {
   "cell_type": "code",
   "execution_count": 5,
   "metadata": {},
   "outputs": [
    {
     "name": "stderr",
     "output_type": "stream",
     "text": [
      "2024-10-16 17:07:06,057 - INFO - Compiling: /usr/local/cuda/bin/nvcc /tmp/tmpi7zk50tl.cu \n",
      "2024-10-16 17:07:08,036 - INFO - Running: ./a.out\n"
     ]
    },
    {
     "name": "stdout",
     "output_type": "stream",
     "text": [
      "Hello from CUDA kernel!\n"
     ]
    }
   ],
   "source": [
    "%%cu\n",
    "#include <iostream>\n",
    "#include <cuda_runtime.h>\n",
    "__global__ void kernel() {\n",
    "    printf(\"Hello from CUDA kernel!\\n\");\n",
    "}\n",
    "int main() {\n",
    "    int device = 0;\n",
    "    cudaGetDevice(&device);\n",
    "\n",
    "    kernel<<<1, 1>>>();\n",
    "    cudaDeviceSynchronize();\n",
    "    return 0;\n",
    "}"
   ]
  }
 ],
 "metadata": {
  "kernelspec": {
   "display_name": "test",
   "language": "python",
   "name": "python3"
  },
  "language_info": {
   "codemirror_mode": {
    "name": "ipython",
    "version": 3
   },
   "file_extension": ".py",
   "mimetype": "text/x-python",
   "name": "python",
   "nbconvert_exporter": "python",
   "pygments_lexer": "ipython3",
   "version": "3.9.19"
  }
 },
 "nbformat": 4,
 "nbformat_minor": 2
}
